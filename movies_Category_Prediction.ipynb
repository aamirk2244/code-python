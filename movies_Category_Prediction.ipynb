{
  "nbformat": 4,
  "nbformat_minor": 0,
  "metadata": {
    "colab": {
      "name": "Untitled4.ipynb",
      "provenance": [],
      "authorship_tag": "ABX9TyM909rviCnxOvxnkQ6lR670",
      "include_colab_link": true
    },
    "kernelspec": {
      "name": "python3",
      "display_name": "Python 3"
    },
    "language_info": {
      "name": "python"
    }
  },
  "cells": [
    {
      "cell_type": "markdown",
      "metadata": {
        "id": "view-in-github",
        "colab_type": "text"
      },
      "source": [
        "<a href=\"https://colab.research.google.com/github/aamirk2244/code-python/blob/main/movies_Category_Prediction.ipynb\" target=\"_parent\"><img src=\"https://colab.research.google.com/assets/colab-badge.svg\" alt=\"Open In Colab\"/></a>"
      ]
    },
    {
      "cell_type": "code",
      "execution_count": 128,
      "metadata": {
        "id": "FyjpywtIP49Z"
      },
      "outputs": [],
      "source": [
        "import pandas as pd\n",
        "import numpy as np\n",
        "import seaborn as sns\n",
        "import matplotlib.pyplot as plt\n",
        "import warnings\n",
        "warnings.simplefilter(\"ignore\")\n",
        "\n"
      ]
    },
    {
      "cell_type": "code",
      "source": [
        "#import dataset\n",
        "df=pd.read_csv(\"movies-train.csv\")\n",
        "df.head()"
      ],
      "metadata": {
        "colab": {
          "base_uri": "https://localhost:8080/",
          "height": 206
        },
        "id": "ZF2Z1ZhPQXo7",
        "outputId": "bdfb7238-3197-4fe4-fc13-2bc4d608b438"
      },
      "execution_count": 129,
      "outputs": [
        {
          "output_type": "execute_result",
          "data": {
            "text/plain": [
              "      catogory                                               text\n",
              "0       Horror  While driving on tour late night through a lon...\n",
              "1        Drama  Five young Soviet Army recruits struggle for s...\n",
              "2        Drama  In a post-Taliban Afghanistan a young woman (A...\n",
              "3  Documentary  Confronted with the death of his stepfather, D...\n",
              "4        Drama  Ivan, Julia and Kike were born and grew up in ..."
            ],
            "text/html": [
              "\n",
              "  <div id=\"df-058354b6-71b0-48db-9023-c83fa21ec43d\">\n",
              "    <div class=\"colab-df-container\">\n",
              "      <div>\n",
              "<style scoped>\n",
              "    .dataframe tbody tr th:only-of-type {\n",
              "        vertical-align: middle;\n",
              "    }\n",
              "\n",
              "    .dataframe tbody tr th {\n",
              "        vertical-align: top;\n",
              "    }\n",
              "\n",
              "    .dataframe thead th {\n",
              "        text-align: right;\n",
              "    }\n",
              "</style>\n",
              "<table border=\"1\" class=\"dataframe\">\n",
              "  <thead>\n",
              "    <tr style=\"text-align: right;\">\n",
              "      <th></th>\n",
              "      <th>catogory</th>\n",
              "      <th>text</th>\n",
              "    </tr>\n",
              "  </thead>\n",
              "  <tbody>\n",
              "    <tr>\n",
              "      <th>0</th>\n",
              "      <td>Horror</td>\n",
              "      <td>While driving on tour late night through a lon...</td>\n",
              "    </tr>\n",
              "    <tr>\n",
              "      <th>1</th>\n",
              "      <td>Drama</td>\n",
              "      <td>Five young Soviet Army recruits struggle for s...</td>\n",
              "    </tr>\n",
              "    <tr>\n",
              "      <th>2</th>\n",
              "      <td>Drama</td>\n",
              "      <td>In a post-Taliban Afghanistan a young woman (A...</td>\n",
              "    </tr>\n",
              "    <tr>\n",
              "      <th>3</th>\n",
              "      <td>Documentary</td>\n",
              "      <td>Confronted with the death of his stepfather, D...</td>\n",
              "    </tr>\n",
              "    <tr>\n",
              "      <th>4</th>\n",
              "      <td>Drama</td>\n",
              "      <td>Ivan, Julia and Kike were born and grew up in ...</td>\n",
              "    </tr>\n",
              "  </tbody>\n",
              "</table>\n",
              "</div>\n",
              "      <button class=\"colab-df-convert\" onclick=\"convertToInteractive('df-058354b6-71b0-48db-9023-c83fa21ec43d')\"\n",
              "              title=\"Convert this dataframe to an interactive table.\"\n",
              "              style=\"display:none;\">\n",
              "        \n",
              "  <svg xmlns=\"http://www.w3.org/2000/svg\" height=\"24px\"viewBox=\"0 0 24 24\"\n",
              "       width=\"24px\">\n",
              "    <path d=\"M0 0h24v24H0V0z\" fill=\"none\"/>\n",
              "    <path d=\"M18.56 5.44l.94 2.06.94-2.06 2.06-.94-2.06-.94-.94-2.06-.94 2.06-2.06.94zm-11 1L8.5 8.5l.94-2.06 2.06-.94-2.06-.94L8.5 2.5l-.94 2.06-2.06.94zm10 10l.94 2.06.94-2.06 2.06-.94-2.06-.94-.94-2.06-.94 2.06-2.06.94z\"/><path d=\"M17.41 7.96l-1.37-1.37c-.4-.4-.92-.59-1.43-.59-.52 0-1.04.2-1.43.59L10.3 9.45l-7.72 7.72c-.78.78-.78 2.05 0 2.83L4 21.41c.39.39.9.59 1.41.59.51 0 1.02-.2 1.41-.59l7.78-7.78 2.81-2.81c.8-.78.8-2.07 0-2.86zM5.41 20L4 18.59l7.72-7.72 1.47 1.35L5.41 20z\"/>\n",
              "  </svg>\n",
              "      </button>\n",
              "      \n",
              "  <style>\n",
              "    .colab-df-container {\n",
              "      display:flex;\n",
              "      flex-wrap:wrap;\n",
              "      gap: 12px;\n",
              "    }\n",
              "\n",
              "    .colab-df-convert {\n",
              "      background-color: #E8F0FE;\n",
              "      border: none;\n",
              "      border-radius: 50%;\n",
              "      cursor: pointer;\n",
              "      display: none;\n",
              "      fill: #1967D2;\n",
              "      height: 32px;\n",
              "      padding: 0 0 0 0;\n",
              "      width: 32px;\n",
              "    }\n",
              "\n",
              "    .colab-df-convert:hover {\n",
              "      background-color: #E2EBFA;\n",
              "      box-shadow: 0px 1px 2px rgba(60, 64, 67, 0.3), 0px 1px 3px 1px rgba(60, 64, 67, 0.15);\n",
              "      fill: #174EA6;\n",
              "    }\n",
              "\n",
              "    [theme=dark] .colab-df-convert {\n",
              "      background-color: #3B4455;\n",
              "      fill: #D2E3FC;\n",
              "    }\n",
              "\n",
              "    [theme=dark] .colab-df-convert:hover {\n",
              "      background-color: #434B5C;\n",
              "      box-shadow: 0px 1px 3px 1px rgba(0, 0, 0, 0.15);\n",
              "      filter: drop-shadow(0px 1px 2px rgba(0, 0, 0, 0.3));\n",
              "      fill: #FFFFFF;\n",
              "    }\n",
              "  </style>\n",
              "\n",
              "      <script>\n",
              "        const buttonEl =\n",
              "          document.querySelector('#df-058354b6-71b0-48db-9023-c83fa21ec43d button.colab-df-convert');\n",
              "        buttonEl.style.display =\n",
              "          google.colab.kernel.accessAllowed ? 'block' : 'none';\n",
              "\n",
              "        async function convertToInteractive(key) {\n",
              "          const element = document.querySelector('#df-058354b6-71b0-48db-9023-c83fa21ec43d');\n",
              "          const dataTable =\n",
              "            await google.colab.kernel.invokeFunction('convertToInteractive',\n",
              "                                                     [key], {});\n",
              "          if (!dataTable) return;\n",
              "\n",
              "          const docLinkHtml = 'Like what you see? Visit the ' +\n",
              "            '<a target=\"_blank\" href=https://colab.research.google.com/notebooks/data_table.ipynb>data table notebook</a>'\n",
              "            + ' to learn more about interactive tables.';\n",
              "          element.innerHTML = '';\n",
              "          dataTable['output_type'] = 'display_data';\n",
              "          await google.colab.output.renderOutput(dataTable, element);\n",
              "          const docLink = document.createElement('div');\n",
              "          docLink.innerHTML = docLinkHtml;\n",
              "          element.appendChild(docLink);\n",
              "        }\n",
              "      </script>\n",
              "    </div>\n",
              "  </div>\n",
              "  "
            ]
          },
          "metadata": {},
          "execution_count": 129
        }
      ]
    },
    {
      "cell_type": "code",
      "source": [
        "df[' catogory']\n"
      ],
      "metadata": {
        "colab": {
          "base_uri": "https://localhost:8080/"
        },
        "id": "2_STU3mUQeHC",
        "outputId": "94e06ab4-7ec6-4097-ebbc-444cf33e3adc"
      },
      "execution_count": 130,
      "outputs": [
        {
          "output_type": "execute_result",
          "data": {
            "text/plain": [
              "0            Horror\n",
              "1             Drama\n",
              "2             Drama\n",
              "3       Documentary\n",
              "4             Drama\n",
              "           ...     \n",
              "7478          Drama\n",
              "7479         Comedy\n",
              "7480         Comedy\n",
              "7481          Drama\n",
              "7482    Documentary\n",
              "Name:  catogory, Length: 7483, dtype: object"
            ]
          },
          "metadata": {},
          "execution_count": 130
        }
      ]
    },
    {
      "cell_type": "code",
      "source": [
        "df[' catogory'].value_counts()\n",
        "\n"
      ],
      "metadata": {
        "colab": {
          "base_uri": "https://localhost:8080/"
        },
        "id": "G-07Ho3HUV0X",
        "outputId": "ead6cdd1-c23f-4027-d1b4-a9672e7f9d99"
      },
      "execution_count": 131,
      "outputs": [
        {
          "output_type": "execute_result",
          "data": {
            "text/plain": [
              "Drama          3603\n",
              "Comedy         1841\n",
              "Documentary    1211\n",
              "Western         432\n",
              "Horror          396\n",
              "Name:  catogory, dtype: int64"
            ]
          },
          "metadata": {},
          "execution_count": 131
        }
      ]
    },
    {
      "cell_type": "code",
      "source": [
        "plt.figure(figsize=(5,10));\n",
        "sns.countplot(df[' catogory']);"
      ],
      "metadata": {
        "colab": {
          "base_uri": "https://localhost:8080/",
          "height": 606
        },
        "id": "ITlQOOC7Ucbk",
        "outputId": "49878790-ecd8-4f74-deb2-25c58dfee942"
      },
      "execution_count": 132,
      "outputs": [
        {
          "output_type": "display_data",
          "data": {
            "text/plain": [
              "<Figure size 360x720 with 1 Axes>"
            ],
            "image/png": "[encoded data removed]"
          },
          "metadata": {
            "needs_background": "light"
          }
        }
      ]
    },
    {
      "cell_type": "code",
      "source": [
        "\n",
        "x = df.iloc[ : , -1].values\n",
        "x"
      ],
      "metadata": {
        "colab": {
          "base_uri": "https://localhost:8080/"
        },
        "id": "c-w1I4yOSvq1",
        "outputId": "bd899954-b61c-4605-bad3-0a944a63a57c"
      },
      "execution_count": 133,
      "outputs": [
        {
          "output_type": "execute_result",
          "data": {
            "text/plain": [
              "array(['While driving on tour late night through a lonely road in the countryside of Spain, the van of the punk band \"Killer Barbys\" has an accident and breaks down. A creepy old man invites the group to spend the night in the castle of Countess Von Fledermaus and presents himself as her secretary Arkan. Arkan explains that the mechanic is located 62 km far from the location and he tells that the Countess loves youths. Flavia, Rafa and Mario accept the invitation but Billy and Sharon stay shagging in the van. When the musicians meet the Countess, they find that she is the ancient artist Olga Luchan and they question how she could keep so young. But sooner they discover that the Countess needs blood of young people to keep her beauty.',\n",
              "       \"Five young Soviet Army recruits struggle for survival against the merciless violence that surrounds them on a daily basis. Their only means of saving their dignity is by preserving the humanity and compassion they share for each other. Visually astonishing, erotically charged and emotionally jarring, this film is Hussein Erkenov's courageous and stinging indictment of Communisum. Banned by the Soviet censors upon its initial release the film had to be smuggled out of the country to make its world wide premier at the 1995 Berlin Film Festival.\",\n",
              "       \"In a post-Taliban Afghanistan a young woman (Agheleh Rezaie) attends school against her conservative father's will, hoping to learn more about democracy to fulfill her dream of being the country's next president.\",\n",
              "       ...,\n",
              "       'Major Jim \"Lance\" Lansing, an American ex-pilot of the U.S. Air Corps, returns to Scotland after the war and finds much trouble in the glen where he settles because of the high-handed activities of the local laird, Sandy Mengues, a wealthy South American who, with his daughter Marissa, has returned to the land of his forefathers. Led by Lansing, the people eventually prevail upon Mengues to restore peace to the glen, but not before a brief and unconvincing fight between Lansing and Dukes, the Mengues foreman.',\n",
              "       'David and his wife Gilda transform their beautiful villa in a brothel, which are home to several characters. Odile, the daughter of a woman tortured by mercenaries, meets in the villa one of the torturers and want to relive over his own body the suffering endured by the mother. An ambassador who was abandoned by his companion, imposes its new partner to take his place. An eighteen year old, very open-minded, staged an orgy.',\n",
              "       'In the late 1960s, a few free thinkers cobbled together donations, primarily from Hollywood, to buy 80 acres at the end of a dirt road in Siskiyou County, California: Big Bear Ranch, a commune with the motto \"free land for free people.\" Archival footage, photographs, documents and news articles, and interviews with people who lived or still live there tell the commune\\'s history: the cold first winter, women and men doing the same work, communal decision making, emerging environmental politics, free love and family formation, child rearing and memories of growing up there, a late 70\\'s crisis with a cult-like group that moved in, and assessment by those grown old of what Big Bear meant.'],\n",
              "      dtype=object)"
            ]
          },
          "metadata": {},
          "execution_count": 133
        }
      ]
    },
    {
      "cell_type": "code",
      "source": [
        ""
      ],
      "metadata": {
        "id": "XCHhMGw9UaU_"
      },
      "execution_count": 133,
      "outputs": []
    },
    {
      "cell_type": "code",
      "source": [
        "y = df.iloc[ : ,: -1].values\n",
        "y = y.flatten()               # converting to 1d\n",
        "\n",
        "y"
      ],
      "metadata": {
        "colab": {
          "base_uri": "https://localhost:8080/"
        },
        "id": "9Yw7K1liTieC",
        "outputId": "eef65f9f-9207-4503-b814-37792e34afa4"
      },
      "execution_count": 134,
      "outputs": [
        {
          "output_type": "execute_result",
          "data": {
            "text/plain": [
              "array(['Horror', 'Drama', 'Drama', ..., 'Comedy', 'Drama', 'Documentary'],\n",
              "      dtype=object)"
            ]
          },
          "metadata": {},
          "execution_count": 134
        }
      ]
    },
    {
      "cell_type": "code",
      "source": [
        "x[0:2]"
      ],
      "metadata": {
        "colab": {
          "base_uri": "https://localhost:8080/"
        },
        "id": "y1CZxn9vVmQE",
        "outputId": "68424d77-d890-49de-9c75-2a976009923b"
      },
      "execution_count": 135,
      "outputs": [
        {
          "output_type": "execute_result",
          "data": {
            "text/plain": [
              "array(['While driving on tour late night through a lonely road in the countryside of Spain, the van of the punk band \"Killer Barbys\" has an accident and breaks down. A creepy old man invites the group to spend the night in the castle of Countess Von Fledermaus and presents himself as her secretary Arkan. Arkan explains that the mechanic is located 62 km far from the location and he tells that the Countess loves youths. Flavia, Rafa and Mario accept the invitation but Billy and Sharon stay shagging in the van. When the musicians meet the Countess, they find that she is the ancient artist Olga Luchan and they question how she could keep so young. But sooner they discover that the Countess needs blood of young people to keep her beauty.',\n",
              "       \"Five young Soviet Army recruits struggle for survival against the merciless violence that surrounds them on a daily basis. Their only means of saving their dignity is by preserving the humanity and compassion they share for each other. Visually astonishing, erotically charged and emotionally jarring, this film is Hussein Erkenov's courageous and stinging indictment of Communisum. Banned by the Soviet censors upon its initial release the film had to be smuggled out of the country to make its world wide premier at the 1995 Berlin Film Festival.\"],\n",
              "      dtype=object)"
            ]
          },
          "metadata": {},
          "execution_count": 135
        }
      ]
    },
    {
      "cell_type": "code",
      "source": [
        "from sklearn.feature_extraction.text import CountVectorizer\n",
        "vect=CountVectorizer(stop_words=\"english\",max_features=1000)\n",
        "x1=vect.fit_transform(x).todense()                    # text column\n",
        "# x_mat=np.hstack((x1))"
      ],
      "metadata": {
        "id": "ezN1Jqy8UIkC"
      },
      "execution_count": 136,
      "outputs": []
    },
    {
      "cell_type": "code",
      "source": [
        "x1"
      ],
      "metadata": {
        "colab": {
          "base_uri": "https://localhost:8080/"
        },
        "id": "WYnHFaoRWeyZ",
        "outputId": "6e6f2136-e078-4682-b9e5-87585df8d959"
      },
      "execution_count": 137,
      "outputs": [
        {
          "output_type": "execute_result",
          "data": {
            "text/plain": [
              "matrix([[0, 0, 0, ..., 2, 0, 0],\n",
              "        [0, 0, 0, ..., 1, 0, 0],\n",
              "        [0, 0, 0, ..., 1, 0, 0],\n",
              "        ...,\n",
              "        [0, 0, 0, ..., 0, 0, 0],\n",
              "        [0, 0, 0, ..., 0, 0, 0],\n",
              "        [0, 0, 0, ..., 0, 0, 0]])"
            ]
          },
          "metadata": {},
          "execution_count": 137
        }
      ]
    },
    {
      "cell_type": "code",
      "source": [
        "from sklearn.model_selection import train_test_split\n",
        "x_train,x_test,y_train,y_test= train_test_split(x1,y,test_size=0.01, random_state=10)\n",
        "y_train"
      ],
      "metadata": {
        "colab": {
          "base_uri": "https://localhost:8080/"
        },
        "id": "b9aUomuZWugG",
        "outputId": "6de1b06a-11aa-432b-9a91-a2c5d8e5e062"
      },
      "execution_count": 138,
      "outputs": [
        {
          "output_type": "execute_result",
          "data": {
            "text/plain": [
              "array(['Drama', 'Western', 'Drama', ..., 'Comedy', 'Drama', 'Drama'],\n",
              "      dtype=object)"
            ]
          },
          "metadata": {},
          "execution_count": 138
        }
      ]
    },
    {
      "cell_type": "code",
      "source": [
        "from sklearn.tree import DecisionTreeClassifier\n",
        "model=DecisionTreeClassifier(criterion='entropy')"
      ],
      "metadata": {
        "id": "J5FU6FYpXSvL"
      },
      "execution_count": 139,
      "outputs": []
    },
    {
      "cell_type": "code",
      "source": [
        "model.fit(x_train,y_train)                        # training x and y\n"
      ],
      "metadata": {
        "colab": {
          "base_uri": "https://localhost:8080/"
        },
        "id": "Cvl7UCg9ZR72",
        "outputId": "dfe7de74-5432-41c0-a140-2310fe8d8f3f"
      },
      "execution_count": 140,
      "outputs": [
        {
          "output_type": "execute_result",
          "data": {
            "text/plain": [
              "DecisionTreeClassifier(criterion='entropy')"
            ]
          },
          "metadata": {},
          "execution_count": 140
        }
      ]
    },
    {
      "cell_type": "code",
      "source": [
        "y_pred=model.predict(x_test)\n",
        "x_test\n"
      ],
      "metadata": {
        "colab": {
          "base_uri": "https://localhost:8080/"
        },
        "id": "izwQ8YWXZUoW",
        "outputId": "f3ac7a8f-9cd8-4c6a-9f99-a95eb758d99c"
      },
      "execution_count": 141,
      "outputs": [
        {
          "output_type": "execute_result",
          "data": {
            "text/plain": [
              "matrix([[0, 0, 0, ..., 0, 0, 0],\n",
              "        [0, 0, 0, ..., 0, 0, 0],\n",
              "        [0, 0, 0, ..., 0, 0, 0],\n",
              "        ...,\n",
              "        [0, 0, 0, ..., 0, 0, 0],\n",
              "        [0, 0, 0, ..., 0, 0, 0],\n",
              "        [0, 0, 0, ..., 1, 0, 0]])"
            ]
          },
          "metadata": {},
          "execution_count": 141
        }
      ]
    },
    {
      "cell_type": "code",
      "source": [
        "y_pred"
      ],
      "metadata": {
        "colab": {
          "base_uri": "https://localhost:8080/"
        },
        "id": "ve98uRxJZZLj",
        "outputId": "3e54daf4-9cfc-40ec-e3be-3409190238cf"
      },
      "execution_count": 142,
      "outputs": [
        {
          "output_type": "execute_result",
          "data": {
            "text/plain": [
              "array(['Comedy', 'Horror', 'Documentary', 'Drama', 'Drama', 'Comedy',\n",
              "       'Drama', 'Comedy', 'Comedy', 'Drama', 'Drama', 'Documentary',\n",
              "       'Drama', 'Drama', 'Drama', 'Comedy', 'Drama', 'Drama', 'Drama',\n",
              "       'Horror', 'Comedy', 'Drama', 'Drama', 'Comedy', 'Drama', 'Horror',\n",
              "       'Western', 'Drama', 'Drama', 'Drama', 'Drama', 'Drama', 'Drama',\n",
              "       'Comedy', 'Drama', 'Comedy', 'Drama', 'Documentary', 'Drama',\n",
              "       'Comedy', 'Drama', 'Horror', 'Drama', 'Drama', 'Documentary',\n",
              "       'Documentary', 'Comedy', 'Drama', 'Comedy', 'Documentary', 'Drama',\n",
              "       'Drama', 'Drama', 'Documentary', 'Documentary', 'Comedy',\n",
              "       'Documentary', 'Drama', 'Drama', 'Drama', 'Drama', 'Drama',\n",
              "       'Drama', 'Western', 'Comedy', 'Drama', 'Drama', 'Drama',\n",
              "       'Documentary', 'Documentary', 'Comedy', 'Comedy', 'Comedy',\n",
              "       'Comedy', 'Drama'], dtype=object)"
            ]
          },
          "metadata": {},
          "execution_count": 142
        }
      ]
    },
    {
      "cell_type": "code",
      "source": [
        ""
      ],
      "metadata": {
        "id": "NOlC_RE_Zalm"
      },
      "execution_count": 142,
      "outputs": []
    },
    {
      "cell_type": "code",
      "source": [
        ""
      ],
      "metadata": {
        "id": "c4pFFKlPZqWE"
      },
      "execution_count": 142,
      "outputs": []
    },
    {
      "cell_type": "markdown",
      "source": [
        "**Accuracy**"
      ],
      "metadata": {
        "id": "mORG_BsaZklu"
      }
    },
    {
      "cell_type": "code",
      "source": [
        "from sklearn.metrics import accuracy_score,confusion_matrix\n",
        "accuracy=accuracy_score(y_pred,y_test)*100\n",
        "print(\"Accuracy of the model is {:.2f}\".format(accuracy))\n",
        "\n"
      ],
      "metadata": {
        "colab": {
          "base_uri": "https://localhost:8080/"
        },
        "id": "AN0_qv1UZr_q",
        "outputId": "82bb81f7-f68e-4297-a5ce-e858ef10fbd0"
      },
      "execution_count": 143,
      "outputs": [
        {
          "output_type": "stream",
          "name": "stdout",
          "text": [
            "Accuracy of the model is 52.00\n"
          ]
        }
      ]
    },
    {
      "cell_type": "code",
      "source": [
        ""
      ],
      "metadata": {
        "id": "AeKhTufeZuy9"
      },
      "execution_count": 143,
      "outputs": []
    },
    {
      "cell_type": "markdown",
      "source": [
        "**Testing on Outer data set**"
      ],
      "metadata": {
        "id": "JZZU-1VDaF09"
      }
    },
    {
      "cell_type": "code",
      "source": [
        "nf=pd.read_csv(\"movies-test.csv\")\n",
        "nf.head()\n",
        "               "
      ],
      "metadata": {
        "colab": {
          "base_uri": "https://localhost:8080/",
          "height": 206
        },
        "id": "fpWOIpJhaK-M",
        "outputId": "7ed6a1e4-d05f-4112-b45d-1aa723db5b76"
      },
      "execution_count": 144,
      "outputs": [
        {
          "output_type": "execute_result",
          "data": {
            "text/plain": [
              "      category                                               text\n",
              "0       Comedy  Kiki and Miki are 2 local musicians in Bulgari...\n",
              "1  Documentary  A feature documentary that explores the rise o...\n",
              "2  Documentary  Documentary about Brazilian filmmaker Glauber ...\n",
              "3  Documentary  A documentary alleging that the CDC, the gover...\n",
              "4       Comedy  Four high school girls at Hollywood High are l..."
            ],
            "text/html": [
              "\n",
              "  <div id=\"df-20b93e56-dfd3-4752-b8ac-4caa7b9b9c31\">\n",
              "    <div class=\"colab-df-container\">\n",
              "      <div>\n",
              "<style scoped>\n",
              "    .dataframe tbody tr th:only-of-type {\n",
              "        vertical-align: middle;\n",
              "    }\n",
              "\n",
              "    .dataframe tbody tr th {\n",
              "        vertical-align: top;\n",
              "    }\n",
              "\n",
              "    .dataframe thead th {\n",
              "        text-align: right;\n",
              "    }\n",
              "</style>\n",
              "<table border=\"1\" class=\"dataframe\">\n",
              "  <thead>\n",
              "    <tr style=\"text-align: right;\">\n",
              "      <th></th>\n",
              "      <th>category</th>\n",
              "      <th>text</th>\n",
              "    </tr>\n",
              "  </thead>\n",
              "  <tbody>\n",
              "    <tr>\n",
              "      <th>0</th>\n",
              "      <td>Comedy</td>\n",
              "      <td>Kiki and Miki are 2 local musicians in Bulgari...</td>\n",
              "    </tr>\n",
              "    <tr>\n",
              "      <th>1</th>\n",
              "      <td>Documentary</td>\n",
              "      <td>A feature documentary that explores the rise o...</td>\n",
              "    </tr>\n",
              "    <tr>\n",
              "      <th>2</th>\n",
              "      <td>Documentary</td>\n",
              "      <td>Documentary about Brazilian filmmaker Glauber ...</td>\n",
              "    </tr>\n",
              "    <tr>\n",
              "      <th>3</th>\n",
              "      <td>Documentary</td>\n",
              "      <td>A documentary alleging that the CDC, the gover...</td>\n",
              "    </tr>\n",
              "    <tr>\n",
              "      <th>4</th>\n",
              "      <td>Comedy</td>\n",
              "      <td>Four high school girls at Hollywood High are l...</td>\n",
              "    </tr>\n",
              "  </tbody>\n",
              "</table>\n",
              "</div>\n",
              "      <button class=\"colab-df-convert\" onclick=\"convertToInteractive('df-20b93e56-dfd3-4752-b8ac-4caa7b9b9c31')\"\n",
              "              title=\"Convert this dataframe to an interactive table.\"\n",
              "              style=\"display:none;\">\n",
              "        \n",
              "  <svg xmlns=\"http://www.w3.org/2000/svg\" height=\"24px\"viewBox=\"0 0 24 24\"\n",
              "       width=\"24px\">\n",
              "    <path d=\"M0 0h24v24H0V0z\" fill=\"none\"/>\n",
              "    <path d=\"M18.56 5.44l.94 2.06.94-2.06 2.06-.94-2.06-.94-.94-2.06-.94 2.06-2.06.94zm-11 1L8.5 8.5l.94-2.06 2.06-.94-2.06-.94L8.5 2.5l-.94 2.06-2.06.94zm10 10l.94 2.06.94-2.06 2.06-.94-2.06-.94-.94-2.06-.94 2.06-2.06.94z\"/><path d=\"M17.41 7.96l-1.37-1.37c-.4-.4-.92-.59-1.43-.59-.52 0-1.04.2-1.43.59L10.3 9.45l-7.72 7.72c-.78.78-.78 2.05 0 2.83L4 21.41c.39.39.9.59 1.41.59.51 0 1.02-.2 1.41-.59l7.78-7.78 2.81-2.81c.8-.78.8-2.07 0-2.86zM5.41 20L4 18.59l7.72-7.72 1.47 1.35L5.41 20z\"/>\n",
              "  </svg>\n",
              "      </button>\n",
              "      \n",
              "  <style>\n",
              "    .colab-df-container {\n",
              "      display:flex;\n",
              "      flex-wrap:wrap;\n",
              "      gap: 12px;\n",
              "    }\n",
              "\n",
              "    .colab-df-convert {\n",
              "      background-color: #E8F0FE;\n",
              "      border: none;\n",
              "      border-radius: 50%;\n",
              "      cursor: pointer;\n",
              "      display: none;\n",
              "      fill: #1967D2;\n",
              "      height: 32px;\n",
              "      padding: 0 0 0 0;\n",
              "      width: 32px;\n",
              "    }\n",
              "\n",
              "    .colab-df-convert:hover {\n",
              "      background-color: #E2EBFA;\n",
              "      box-shadow: 0px 1px 2px rgba(60, 64, 67, 0.3), 0px 1px 3px 1px rgba(60, 64, 67, 0.15);\n",
              "      fill: #174EA6;\n",
              "    }\n",
              "\n",
              "    [theme=dark] .colab-df-convert {\n",
              "      background-color: #3B4455;\n",
              "      fill: #D2E3FC;\n",
              "    }\n",
              "\n",
              "    [theme=dark] .colab-df-convert:hover {\n",
              "      background-color: #434B5C;\n",
              "      box-shadow: 0px 1px 3px 1px rgba(0, 0, 0, 0.15);\n",
              "      filter: drop-shadow(0px 1px 2px rgba(0, 0, 0, 0.3));\n",
              "      fill: #FFFFFF;\n",
              "    }\n",
              "  </style>\n",
              "\n",
              "      <script>\n",
              "        const buttonEl =\n",
              "          document.querySelector('#df-20b93e56-dfd3-4752-b8ac-4caa7b9b9c31 button.colab-df-convert');\n",
              "        buttonEl.style.display =\n",
              "          google.colab.kernel.accessAllowed ? 'block' : 'none';\n",
              "\n",
              "        async function convertToInteractive(key) {\n",
              "          const element = document.querySelector('#df-20b93e56-dfd3-4752-b8ac-4caa7b9b9c31');\n",
              "          const dataTable =\n",
              "            await google.colab.kernel.invokeFunction('convertToInteractive',\n",
              "                                                     [key], {});\n",
              "          if (!dataTable) return;\n",
              "\n",
              "          const docLinkHtml = 'Like what you see? Visit the ' +\n",
              "            '<a target=\"_blank\" href=https://colab.research.google.com/notebooks/data_table.ipynb>data table notebook</a>'\n",
              "            + ' to learn more about interactive tables.';\n",
              "          element.innerHTML = '';\n",
              "          dataTable['output_type'] = 'display_data';\n",
              "          await google.colab.output.renderOutput(dataTable, element);\n",
              "          const docLink = document.createElement('div');\n",
              "          docLink.innerHTML = docLinkHtml;\n",
              "          element.appendChild(docLink);\n",
              "        }\n",
              "      </script>\n",
              "    </div>\n",
              "  </div>\n",
              "  "
            ]
          },
          "metadata": {},
          "execution_count": 144
        }
      ]
    },
    {
      "cell_type": "code",
      "source": [
        "\n",
        "nf = nf[0:]\n",
        "label = nf[' category']                    # last row  contain real class\n",
        "# nf.columns\n",
        "nf=nf.drop([' category'],axis=1)                   # removing the class column as we want to predict our input rows\n",
        "print('this label -> ', label)\n",
        "\n",
        "n1=vect.fit_transform(nf['text'].values).todense()                    # text column\n",
        "# n1\n",
        "res =  model.predict(n1)              # predicting on the basis of above trained model\n",
        "print('result -> ', res)"
      ],
      "metadata": {
        "colab": {
          "base_uri": "https://localhost:8080/"
        },
        "id": "CKJy976-avyK",
        "outputId": "227459c7-b8cb-47a3-cd85-ee967139ff86"
      },
      "execution_count": 145,
      "outputs": [
        {
          "output_type": "stream",
          "name": "stdout",
          "text": [
            "this label ->  0            Comedy\n",
            "1       Documentary\n",
            "2       Documentary\n",
            "3       Documentary\n",
            "4            Comedy\n",
            "           ...     \n",
            "1342          Drama\n",
            "1343          Drama\n",
            "1344    Documentary\n",
            "1345          Drama\n",
            "1346          Drama\n",
            "Name:  category, Length: 1347, dtype: object\n",
            "result ->  ['Comedy' 'Comedy' 'Documentary' ... 'Drama' 'Documentary' 'Horror']\n"
          ]
        }
      ]
    },
    {
      "cell_type": "code",
      "source": [
        "predictRow = 7\n",
        "print('predicting the below text')     # i.e if it is horror , comedy etc\n",
        "print(nf.iloc[predictRow,])             # this is the row of the text\n",
        "print('Predicted Category Result -> ', res[predictRow])                       # this is the predicted result by our model\n",
        "# check the predicted result in the movies-test.csv file correspond to the above given row "
      ],
      "metadata": {
        "colab": {
          "base_uri": "https://localhost:8080/"
        },
        "id": "uouV9hJVbnyB",
        "outputId": "8b410dba-e9e6-4cd6-c9d7-330570322708"
      },
      "execution_count": 148,
      "outputs": [
        {
          "output_type": "stream",
          "name": "stdout",
          "text": [
            "predicting the below text\n",
            "text    Two ruined, old adversaries meet in a rehab ce...\n",
            "Name: 7, dtype: object\n",
            "Predicted Category Result ->  Comedy\n"
          ]
        }
      ]
    },
    {
      "cell_type": "code",
      "source": [
        "nf.head()\n"
      ],
      "metadata": {
        "colab": {
          "base_uri": "https://localhost:8080/",
          "height": 206
        },
        "id": "Rw7JsECXcIJ5",
        "outputId": "5cefedc7-eba4-4ba6-9b84-db9c3eabd1d9"
      },
      "execution_count": 147,
      "outputs": [
        {
          "output_type": "execute_result",
          "data": {
            "text/plain": [
              "                                                text\n",
              "0  Kiki and Miki are 2 local musicians in Bulgari...\n",
              "1  A feature documentary that explores the rise o...\n",
              "2  Documentary about Brazilian filmmaker Glauber ...\n",
              "3  A documentary alleging that the CDC, the gover...\n",
              "4  Four high school girls at Hollywood High are l..."
            ],
            "text/html": [
              "\n",
              "  <div id=\"df-7fcb2f07-fba4-4286-860d-e20d71600676\">\n",
              "    <div class=\"colab-df-container\">\n",
              "      <div>\n",
              "<style scoped>\n",
              "    .dataframe tbody tr th:only-of-type {\n",
              "        vertical-align: middle;\n",
              "    }\n",
              "\n",
              "    .dataframe tbody tr th {\n",
              "        vertical-align: top;\n",
              "    }\n",
              "\n",
              "    .dataframe thead th {\n",
              "        text-align: right;\n",
              "    }\n",
              "</style>\n",
              "<table border=\"1\" class=\"dataframe\">\n",
              "  <thead>\n",
              "    <tr style=\"text-align: right;\">\n",
              "      <th></th>\n",
              "      <th>text</th>\n",
              "    </tr>\n",
              "  </thead>\n",
              "  <tbody>\n",
              "    <tr>\n",
              "      <th>0</th>\n",
              "      <td>Kiki and Miki are 2 local musicians in Bulgari...</td>\n",
              "    </tr>\n",
              "    <tr>\n",
              "      <th>1</th>\n",
              "      <td>A feature documentary that explores the rise o...</td>\n",
              "    </tr>\n",
              "    <tr>\n",
              "      <th>2</th>\n",
              "      <td>Documentary about Brazilian filmmaker Glauber ...</td>\n",
              "    </tr>\n",
              "    <tr>\n",
              "      <th>3</th>\n",
              "      <td>A documentary alleging that the CDC, the gover...</td>\n",
              "    </tr>\n",
              "    <tr>\n",
              "      <th>4</th>\n",
              "      <td>Four high school girls at Hollywood High are l...</td>\n",
              "    </tr>\n",
              "  </tbody>\n",
              "</table>\n",
              "</div>\n",
              "      <button class=\"colab-df-convert\" onclick=\"convertToInteractive('df-7fcb2f07-fba4-4286-860d-e20d71600676')\"\n",
              "              title=\"Convert this dataframe to an interactive table.\"\n",
              "              style=\"display:none;\">\n",
              "        \n",
              "  <svg xmlns=\"http://www.w3.org/2000/svg\" height=\"24px\"viewBox=\"0 0 24 24\"\n",
              "       width=\"24px\">\n",
              "    <path d=\"M0 0h24v24H0V0z\" fill=\"none\"/>\n",
              "    <path d=\"M18.56 5.44l.94 2.06.94-2.06 2.06-.94-2.06-.94-.94-2.06-.94 2.06-2.06.94zm-11 1L8.5 8.5l.94-2.06 2.06-.94-2.06-.94L8.5 2.5l-.94 2.06-2.06.94zm10 10l.94 2.06.94-2.06 2.06-.94-2.06-.94-.94-2.06-.94 2.06-2.06.94z\"/><path d=\"M17.41 7.96l-1.37-1.37c-.4-.4-.92-.59-1.43-.59-.52 0-1.04.2-1.43.59L10.3 9.45l-7.72 7.72c-.78.78-.78 2.05 0 2.83L4 21.41c.39.39.9.59 1.41.59.51 0 1.02-.2 1.41-.59l7.78-7.78 2.81-2.81c.8-.78.8-2.07 0-2.86zM5.41 20L4 18.59l7.72-7.72 1.47 1.35L5.41 20z\"/>\n",
              "  </svg>\n",
              "      </button>\n",
              "      \n",
              "  <style>\n",
              "    .colab-df-container {\n",
              "      display:flex;\n",
              "      flex-wrap:wrap;\n",
              "      gap: 12px;\n",
              "    }\n",
              "\n",
              "    .colab-df-convert {\n",
              "      background-color: #E8F0FE;\n",
              "      border: none;\n",
              "      border-radius: 50%;\n",
              "      cursor: pointer;\n",
              "      display: none;\n",
              "      fill: #1967D2;\n",
              "      height: 32px;\n",
              "      padding: 0 0 0 0;\n",
              "      width: 32px;\n",
              "    }\n",
              "\n",
              "    .colab-df-convert:hover {\n",
              "      background-color: #E2EBFA;\n",
              "      box-shadow: 0px 1px 2px rgba(60, 64, 67, 0.3), 0px 1px 3px 1px rgba(60, 64, 67, 0.15);\n",
              "      fill: #174EA6;\n",
              "    }\n",
              "\n",
              "    [theme=dark] .colab-df-convert {\n",
              "      background-color: #3B4455;\n",
              "      fill: #D2E3FC;\n",
              "    }\n",
              "\n",
              "    [theme=dark] .colab-df-convert:hover {\n",
              "      background-color: #434B5C;\n",
              "      box-shadow: 0px 1px 3px 1px rgba(0, 0, 0, 0.15);\n",
              "      filter: drop-shadow(0px 1px 2px rgba(0, 0, 0, 0.3));\n",
              "      fill: #FFFFFF;\n",
              "    }\n",
              "  </style>\n",
              "\n",
              "      <script>\n",
              "        const buttonEl =\n",
              "          document.querySelector('#df-7fcb2f07-fba4-4286-860d-e20d71600676 button.colab-df-convert');\n",
              "        buttonEl.style.display =\n",
              "          google.colab.kernel.accessAllowed ? 'block' : 'none';\n",
              "\n",
              "        async function convertToInteractive(key) {\n",
              "          const element = document.querySelector('#df-7fcb2f07-fba4-4286-860d-e20d71600676');\n",
              "          const dataTable =\n",
              "            await google.colab.kernel.invokeFunction('convertToInteractive',\n",
              "                                                     [key], {});\n",
              "          if (!dataTable) return;\n",
              "\n",
              "          const docLinkHtml = 'Like what you see? Visit the ' +\n",
              "            '<a target=\"_blank\" href=https://colab.research.google.com/notebooks/data_table.ipynb>data table notebook</a>'\n",
              "            + ' to learn more about interactive tables.';\n",
              "          element.innerHTML = '';\n",
              "          dataTable['output_type'] = 'display_data';\n",
              "          await google.colab.output.renderOutput(dataTable, element);\n",
              "          const docLink = document.createElement('div');\n",
              "          docLink.innerHTML = docLinkHtml;\n",
              "          element.appendChild(docLink);\n",
              "        }\n",
              "      </script>\n",
              "    </div>\n",
              "  </div>\n",
              "  "
            ]
          },
          "metadata": {},
          "execution_count": 147
        }
      ]
    },
    {
      "cell_type": "code",
      "source": [
        "\n"
      ],
      "metadata": {
        "id": "_ik8voOocvpV"
      },
      "execution_count": 147,
      "outputs": []
    },
    {
      "cell_type": "code",
      "source": [
        ""
      ],
      "metadata": {
        "id": "wVHVlr2MdRRT"
      },
      "execution_count": 147,
      "outputs": []
    }
  ]
}